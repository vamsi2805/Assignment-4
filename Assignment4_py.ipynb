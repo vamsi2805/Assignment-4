{
  "nbformat": 4,
  "nbformat_minor": 0,
  "metadata": {
    "colab": {
      "name": "Assignment4.py",
      "provenance": [],
      "collapsed_sections": [],
      "authorship_tag": "ABX9TyPLtfROhriAa0MVCPWPmoH8",
      "include_colab_link": true
    },
    "kernelspec": {
      "name": "python3",
      "display_name": "Python 3"
    }
  },
  "cells": [
    {
      "cell_type": "markdown",
      "metadata": {
        "id": "view-in-github",
        "colab_type": "text"
      },
      "source": [
        "<a href=\"https://colab.research.google.com/github/vamsi2805/Assignment-4/blob/master/Assignment4_py.ipynb\" target=\"_parent\"><img src=\"https://colab.research.google.com/assets/colab-badge.svg\" alt=\"Open In Colab\"/></a>"
      ]
    },
    {
      "cell_type": "code",
      "metadata": {
        "id": "BHwSX4CRl70j",
        "colab_type": "code",
        "colab": {}
      },
      "source": [
        "Write a Python function to find the Max of three numbers.\n"
      ],
      "execution_count": null,
      "outputs": []
    },
    {
      "cell_type": "code",
      "metadata": {
        "id": "EbwaEwRMl_Nl",
        "colab_type": "code",
        "colab": {
          "base_uri": "https://localhost:8080/",
          "height": 85
        },
        "outputId": "e95d1435-f911-4ce0-d0fd-779018a8c945"
      },
      "source": [
        "a = int(input('Enter the first number: '))\n",
        "b = int(input('Enter the second number: '))\n",
        "c = int(input('Enter the third number: '))\n",
        "if a>b:\n",
        "  if a>c:\n",
        "    print('The maximum of three numbers is:',a)\n",
        "  else:\n",
        "    print('The maximum of three numbers is:',c)\n",
        "else:\n",
        "  if a>b:\n",
        "    print('The maximum of three numbers is:',b)  \n",
        "  else:\n",
        "    print('The maximum of three numbers is:', c)"
      ],
      "execution_count": 1,
      "outputs": [
        {
          "output_type": "stream",
          "text": [
            "Enter the first number: 15\n",
            "Enter the second number: 25\n",
            "Enter the third number: 99\n",
            "The maximum of three numbers is: 99\n"
          ],
          "name": "stdout"
        }
      ]
    },
    {
      "cell_type": "markdown",
      "metadata": {
        "id": "GEOAx8KpnLXN",
        "colab_type": "text"
      },
      "source": [
        "Write a program to reverse a string."
      ]
    },
    {
      "cell_type": "code",
      "metadata": {
        "id": "Q0vP0zn2nSTK",
        "colab_type": "code",
        "colab": {
          "base_uri": "https://localhost:8080/",
          "height": 51
        },
        "outputId": "52408e55-f863-40af-bb3f-c8a819078b14"
      },
      "source": [
        "def reverse_string(str):\n",
        "    print(\"string before reversing is:\",str)\n",
        "    print(\"string after reversing is:\",str[::-1])\n",
        "reverse_string(\"sunday\")"
      ],
      "execution_count": 3,
      "outputs": [
        {
          "output_type": "stream",
          "text": [
            "string before reversing is: sunday\n",
            "string after reversing is: yadnus\n"
          ],
          "name": "stdout"
        }
      ]
    },
    {
      "cell_type": "markdown",
      "metadata": {
        "id": "uAF_tAwwnhNK",
        "colab_type": "text"
      },
      "source": [
        "write a program to check whether a number is prime or not."
      ]
    },
    {
      "cell_type": "code",
      "metadata": {
        "id": "H4p4Ob9Epzrn",
        "colab_type": "code",
        "colab": {
          "base_uri": "https://localhost:8080/",
          "height": 34
        },
        "outputId": "edbed439-5565-4ec0-8d74-028d3d494085"
      },
      "source": [
        "def prime_check(num):\n",
        "    if num<0:\n",
        "        print(\"Negative numbers cannot be prime.\")\n",
        "    elif num==0 and num==1:\n",
        "        if num==0:\n",
        "            print(\"0 is neither prime nor composite.\")\n",
        "        else:\n",
        "            print(\"1 is neither prime not composite.\")\n",
        "    elif num==2:\n",
        "        print(\"2 is the only even prime number.\")\n",
        "    elif num>2:\n",
        "        for i in range(2,num):\n",
        "            if num%i==0:\n",
        "                print(\"It is not a prime number.\")\n",
        "                break\n",
        "        else:\n",
        "            print(\"It is a prime number.\")\n",
        "prime_check(24)"
      ],
      "execution_count": 13,
      "outputs": [
        {
          "output_type": "stream",
          "text": [
            "It is not a prime number.\n"
          ],
          "name": "stdout"
        }
      ]
    },
    {
      "cell_type": "markdown",
      "metadata": {
        "id": "IyExohrtp0qJ",
        "colab_type": "text"
      },
      "source": [
        "5. Find the sum of squares of first n natural numbers."
      ]
    },
    {
      "cell_type": "code",
      "metadata": {
        "id": "AqLyOqdSqfkN",
        "colab_type": "code",
        "colab": {
          "base_uri": "https://localhost:8080/",
          "height": 34
        },
        "outputId": "61f9f586-037c-4c38-ed61-0ef89a5764b1"
      },
      "source": [
        "def sum_of_squares(num):\n",
        "    sq_sum = 0\n",
        "    for i in range(1, num+1):\n",
        "        sq_sum = sq_sum + i**2\n",
        "    print(\"sum of squares of the first\",num,\"natural numbers is:\",sq_sum)\n",
        "    \n",
        "sum_of_squares(87)"
      ],
      "execution_count": 16,
      "outputs": [
        {
          "output_type": "stream",
          "text": [
            "sum of squares of the first 87 natural numbers is: 223300\n"
          ],
          "name": "stdout"
        }
      ]
    }
  ]
}