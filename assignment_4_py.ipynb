{
  "nbformat": 4,
  "nbformat_minor": 0,
  "metadata": {
    "colab": {
      "name": "assignment 4.py",
      "provenance": [],
      "collapsed_sections": [],
      "authorship_tag": "ABX9TyO+PU8DmRT65qCHr1Ix2Wc6",
      "include_colab_link": true
    },
    "kernelspec": {
      "name": "python3",
      "display_name": "Python 3"
    }
  },
  "cells": [
    {
      "cell_type": "markdown",
      "metadata": {
        "id": "view-in-github",
        "colab_type": "text"
      },
      "source": [
        "<a href=\"https://colab.research.google.com/github/vamsi2805/Assignment-4/blob/master/assignment_4_py.ipynb\" target=\"_parent\"><img src=\"https://colab.research.google.com/assets/colab-badge.svg\" alt=\"Open In Colab\"/></a>"
      ]
    },
    {
      "cell_type": "markdown",
      "metadata": {
        "id": "XizZBFSWHRar",
        "colab_type": "text"
      },
      "source": [
        "Write a Python function to find the Max of three numbers.\n"
      ]
    },
    {
      "cell_type": "code",
      "metadata": {
        "id": "ZxOIpik_HUXe",
        "colab_type": "code",
        "colab": {
          "base_uri": "https://localhost:8080/",
          "height": 85
        },
        "outputId": "8c231c89-7305-4602-8f1a-4c49b304f66f"
      },
      "source": [
        "a = int(input('Enter the first number: '))\n",
        "b = int(input('Enter the second number: '))\n",
        "c = int(input('Enter the third number: '))\n",
        "if a>b:\n",
        "  if a>c:\n",
        "    print('The maximum of three numbers is:',a)\n",
        "  else:\n",
        "    print('The maximum of three numbers is:',c)\n",
        "else:\n",
        "  if a>b:\n",
        "    print('The maximum of three numbers is:',b)  \n",
        "  else:\n",
        "    print('The maximum of three numbers is:', c)"
      ],
      "execution_count": null,
      "outputs": [
        {
          "output_type": "stream",
          "text": [
            "Enter the first number: 15\n",
            "Enter the second number: 25\n",
            "Enter the third number: 99\n",
            "The maximum of three numbers is: 99\n"
          ],
          "name": "stdout"
        }
      ]
    },
    {
      "cell_type": "markdown",
      "metadata": {
        "id": "U2Trp47BHlX6",
        "colab_type": "text"
      },
      "source": [
        "Write a python program to reverse a string"
      ]
    },
    {
      "cell_type": "code",
      "metadata": {
        "id": "poPyStE2HzlR",
        "colab_type": "code",
        "colab": {}
      },
      "source": [
        ""
      ],
      "execution_count": null,
      "outputs": []
    }
  ]
}